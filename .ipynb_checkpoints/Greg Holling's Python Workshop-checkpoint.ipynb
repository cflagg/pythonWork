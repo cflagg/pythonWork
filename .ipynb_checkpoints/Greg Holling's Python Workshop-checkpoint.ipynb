{
 "metadata": {
  "name": "",
  "signature": "sha256:a47302aca22aacb6c6a4d6520f79cefbc9276f08af5a0740a9365fa2699e0dae"
 },
 "nbformat": 3,
 "nbformat_minor": 0,
 "worksheets": [
  {
   "cells": [
    {
     "cell_type": "markdown",
     "metadata": {},
     "source": [
      "#list comprehensions\n",
      "more efficient to loop and create lists\n"
     ]
    },
    {
     "cell_type": "code",
     "collapsed": false,
     "input": [
      "#without list compreh\n",
      "colors=['red','green','blue']\n",
      "colorLines=[]\n",
      "for color in colors:\n",
      "    colorLines.append(color+'\\n')\n",
      "colorLinesCom=[]\n",
      "#list comprehension\n",
      "colorLinesCom=[color+'\\n' for color in colors]\n",
      "\n",
      "#note that you can add an if statement to that too !!\n",
      "    "
     ],
     "language": "python",
     "metadata": {},
     "outputs": [],
     "prompt_number": 4
    },
    {
     "cell_type": "code",
     "collapsed": false,
     "input": [
      "colorLines\n"
     ],
     "language": "python",
     "metadata": {},
     "outputs": [
      {
       "metadata": {},
       "output_type": "pyout",
       "prompt_number": 6,
       "text": [
        "['red\\n', 'green\\n', 'blue\\n']"
       ]
      }
     ],
     "prompt_number": 6
    },
    {
     "cell_type": "code",
     "collapsed": false,
     "input": [
      "colorLinesCom"
     ],
     "language": "python",
     "metadata": {},
     "outputs": [
      {
       "metadata": {},
       "output_type": "pyout",
       "prompt_number": 7,
       "text": [
        "['red\\n', 'green\\n', 'blue\\n']"
       ]
      }
     ],
     "prompt_number": 7
    },
    {
     "cell_type": "markdown",
     "metadata": {},
     "source": [
      "#Iterable Object\n",
      "*needs a next method\n",
      "*use the iter() to create an iterator"
     ]
    },
    {
     "cell_type": "code",
     "collapsed": false,
     "input": [
      "a=iter([1,2,3])\n",
      "print a.next()\n",
      "#largely used for framework code???"
     ],
     "language": "python",
     "metadata": {},
     "outputs": [
      {
       "output_type": "stream",
       "stream": "stdout",
       "text": [
        "1\n"
       ]
      }
     ],
     "prompt_number": 12
    },
    {
     "cell_type": "markdown",
     "metadata": {},
     "source": [
      "#Generator Expressions\n",
      "function used to create an iterator\n",
      "    "
     ]
    },
    {
     "cell_type": "code",
     "collapsed": false,
     "input": [],
     "language": "python",
     "metadata": {},
     "outputs": []
    }
   ],
   "metadata": {}
  }
 ]
}