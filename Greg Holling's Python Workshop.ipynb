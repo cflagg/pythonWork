{
 "metadata": {
  "name": "",
  "signature": "sha256:a1384d986789b3f56e5e6184da8f33b2347b405a28dcf9115c4600196c1863f9"
 },
 "nbformat": 3,
 "nbformat_minor": 0,
 "worksheets": [
  {
   "cells": [
    {
     "cell_type": "markdown",
     "metadata": {},
     "source": [
      "#list comprehensions\n",
      "more efficient to loop and create lists\n"
     ]
    },
    {
     "cell_type": "code",
     "collapsed": false,
     "input": [
      "#without list compreh\n",
      "colors=['red','green','blue']\n",
      "colorLines=[]\n",
      "for color in colors:\n",
      "    colorLines.append(color+'\\n')\n",
      "colorLinesCom=[]\n",
      "#list comprehension\n",
      "colorLinesCom=[color+'\\n' for color in colors]\n",
      "\n",
      "#note that you can add an if statement to that too !!\n",
      "    "
     ],
     "language": "python",
     "metadata": {},
     "outputs": [],
     "prompt_number": 4
    },
    {
     "cell_type": "code",
     "collapsed": false,
     "input": [
      "colorLines\n"
     ],
     "language": "python",
     "metadata": {},
     "outputs": [
      {
       "metadata": {},
       "output_type": "pyout",
       "prompt_number": 6,
       "text": [
        "['red\\n', 'green\\n', 'blue\\n']"
       ]
      }
     ],
     "prompt_number": 6
    },
    {
     "cell_type": "code",
     "collapsed": false,
     "input": [
      "colorLinesCom"
     ],
     "language": "python",
     "metadata": {},
     "outputs": [
      {
       "metadata": {},
       "output_type": "pyout",
       "prompt_number": 7,
       "text": [
        "['red\\n', 'green\\n', 'blue\\n']"
       ]
      }
     ],
     "prompt_number": 7
    },
    {
     "cell_type": "markdown",
     "metadata": {},
     "source": [
      "#Iterable Object\n",
      "*needs a next method\n",
      "*use the iter() to create an iterator"
     ]
    },
    {
     "cell_type": "code",
     "collapsed": false,
     "input": [
      "a=iter([1,2,3])\n",
      "print a.next()\n",
      "#largely used for framework code???"
     ],
     "language": "python",
     "metadata": {},
     "outputs": [
      {
       "output_type": "stream",
       "stream": "stdout",
       "text": [
        "1\n"
       ]
      }
     ],
     "prompt_number": 12
    },
    {
     "cell_type": "markdown",
     "metadata": {},
     "source": [
      "#Generator Expressions\n",
      "function used to create an iterator\n",
      "    "
     ]
    },
    {
     "cell_type": "code",
     "collapsed": false,
     "input": [
      "#wiht square brackets - its list comprehension, with round its a generator\n",
      "\n",
      "#list comprehension\n",
      "colorLinesCom=(color+'\\n' for color in colors)\n",
      "\n",
      "## used a while statement\n",
      "\n",
      "\n"
     ],
     "language": "python",
     "metadata": {},
     "outputs": []
    },
    {
     "cell_type": "markdown",
     "metadata": {},
     "source": [
      "#lambda \n",
      "elements..."
     ]
    },
    {
     "cell_type": "code",
     "collapsed": false,
     "input": [
      "alist=[1,2,3,4,5,6]\n",
      "low=3\n",
      "high=7\n",
      "\n",
      "#you can use the below syntax instead of a for loop working through \n",
      "#the list... but it has to \n",
      "#return just one value\n",
      "result=filter(lambda x, l=low, h=high: h>x>l,alist)\n",
      "print result"
     ],
     "language": "python",
     "metadata": {},
     "outputs": [
      {
       "output_type": "stream",
       "stream": "stdout",
       "text": [
        "[4, 5, 6]\n"
       ]
      }
     ],
     "prompt_number": 15
    },
    {
     "cell_type": "markdown",
     "metadata": {},
     "source": [
      "#Map, reduce filter\n",
      "\n",
      "map is returning a list of an interable on a function for each value in a sequence\n"
     ]
    },
    {
     "cell_type": "markdown",
     "metadata": {},
     "source": [
      "cels =[]\n",
      "alist=[32.4,23,53,34,25,56]\n",
      "\n",
      "def convToFahr (x):\n",
      "    temp=(float(5)/9)*x*32)\n",
      "    return temp\n",
      "\n",
      "\n",
      "#fahr = map(lambda x: (9.0/5), fahr)\n",
      "#look into the lambda more\n",
      "\n"
     ]
    },
    {
     "cell_type": "markdown",
     "metadata": {},
     "source": [
      "#filter & reduce -- \n",
      "example given returned odd vs even numbers \n",
      "\n"
     ]
    },
    {
     "cell_type": "code",
     "collapsed": false,
     "input": [
      "alist=[2,3,43,23,52,34]\n",
      "\n",
      "f= lambda a,b: a if (a>b) else b\n",
      "\n",
      "result= reduce (f,alist)\n",
      "print \"max value=\", result"
     ],
     "language": "python",
     "metadata": {},
     "outputs": [
      {
       "output_type": "stream",
       "stream": "stdout",
       "text": [
        "max value= 52\n"
       ]
      }
     ],
     "prompt_number": 20
    },
    {
     "cell_type": "code",
     "collapsed": false,
     "input": [
      "alist=[2,3,43,23,52,34]\n",
      "\n",
      "def calculation(a,b):\n",
      "    \n",
      "    \n",
      "    "
     ],
     "language": "python",
     "metadata": {},
     "outputs": []
    }
   ],
   "metadata": {}
  }
 ]
}